{
 "cells": [
  {
   "cell_type": "markdown",
   "metadata": {},
   "source": [
    "## Random Forest Parametros Iniciales\n"
   ]
  },
  {
   "cell_type": "code",
   "execution_count": 43,
   "metadata": {},
   "outputs": [
    {
     "name": "stdout",
     "output_type": "stream",
     "text": [
      "Random Forest \n",
      "              precision    recall  f1-score   support\n",
      "\n",
      "           0       1.00      0.00      0.01     20835\n",
      "           1       0.69      1.00      0.82     46031\n",
      "\n",
      "    accuracy                           0.69     66866\n",
      "   macro avg       0.84      0.50      0.41     66866\n",
      "weighted avg       0.79      0.69      0.56     66866\n",
      "\n"
     ]
    }
   ],
   "source": [
    "# Importar las librerías necesarias\n",
    "import pandas as pd\n",
    "from sklearn.model_selection import train_test_split\n",
    "from sklearn.ensemble import RandomForestClassifier\n",
    "from sklearn.feature_extraction.text import TfidfVectorizer\n",
    "from sklearn.metrics import classification_report\n",
    "\n",
    "# Leer el archivo CSV con los datos y eliminar filas vacías\n",
    "df = pd.read_csv(\"Amazon_Unlocked_Mobile.csv\")\n",
    "df.dropna(inplace=True)\n",
    "\n",
    "# Crear una columna  binaria llamada \"Positividad\" donde:\n",
    "# Las reseñas con puntuación >= 4 se marcan como 1 (positiva)\n",
    "# Las demás como 0 (negativa)\n",
    "df[\"Positividad\"] = df[\"Rating\"].map(lambda x: 1 if x >= 4 else 0)\n",
    "\n",
    "# Convertir el texto de las reseñas a números \n",
    "vectorizer = TfidfVectorizer(max_features=5000)\n",
    "X = vectorizer.fit_transform(df[\"Reviews\"].astype(str))\n",
    "y = df[\"Positividad\"]\n",
    "\n",
    "# Dividir los datos en entrenamiento (ent) y prueba (prueba)\n",
    "ent_X, prueba_X, ent_y, prueba_y = train_test_split(X, y, test_size=0.2, random_state=42)\n",
    "\n",
    "# Crear y entrenar un modelo de Random Forest con 100 árboles y profundidad máxima de 4(Parametros Iniciales)\n",
    "rf = RandomForestClassifier(n_estimators=100, max_depth=4)\n",
    "rf.fit(ent_X, ent_y)\n",
    "\n",
    "# Imprimir resultados\n",
    "print(\"Random Forest \")\n",
    "print(classification_report(prueba_y, rf.predict(prueba_X)))\n"
   ]
  },
  {
   "cell_type": "markdown",
   "metadata": {},
   "source": [
    "El modelo entrenado con Random Forest fue evaluado con datos de prueba.\n",
    "Se obtuvo una precisión del 69%.Sin embargo, los resultados muestran que el modelo solo identificó bien la clase positiva, con un f1-score de 0.82, pero casi no detectó la clase negativa, con un f1-score muy bajo de 0.01.Esto significa que el modelo está desequilibrado"
   ]
  },
  {
   "cell_type": "markdown",
   "metadata": {},
   "source": [
    "## Random Forest Ajustes Manuales"
   ]
  },
  {
   "cell_type": "code",
   "execution_count": null,
   "metadata": {},
   "outputs": [
    {
     "name": "stdout",
     "output_type": "stream",
     "text": [
      "Random Forest Ajustado 1\n",
      "              precision    recall  f1-score   support\n",
      "\n",
      "           0       0.96      0.47      0.63     20835\n",
      "           1       0.80      0.99      0.89     46031\n",
      "\n",
      "    accuracy                           0.83     66866\n",
      "   macro avg       0.88      0.73      0.76     66866\n",
      "weighted avg       0.85      0.83      0.81     66866\n",
      "\n"
     ]
    }
   ],
   "source": [
    "# Leer el archivo CSV con los datos y eliminar filas vacías\n",
    "df = pd.read_csv(\"Amazon_Unlocked_Mobile.csv\")\n",
    "df.dropna(inplace=True)\n",
    "\n",
    "# Crear una columna  binaria llamada \"Positividad\" donde:\n",
    "# Las reseñas con puntuación >= 4 se marcan como 1 (positiva)\n",
    "# Las demás como 0 (negativa)\n",
    "df[\"Positividad\"] = df[\"Rating\"].map(lambda x: 1 if x >= 4 else 0)\n",
    "\n",
    "\n",
    "# Convertir el texto de las reseñas a números \n",
    "vectorizer = TfidfVectorizer(max_features=5000)\n",
    "X = vectorizer.fit_transform(df[\"Reviews\"].astype(str))\n",
    "y = df[\"Positividad\"]\n",
    "\n",
    "\n",
    "# Dividir los datos en entrenamiento (ent) y prueba (prueba)\n",
    "ent_X, prueba_X, ent_y, prueba_y = train_test_split(X, y, test_size=0.2, random_state=42)\n",
    "\n",
    "# Crear y entrenar un modelo de Random Forest con 200 árboles y profundidad máxima de 20 (Parametros Ajustados 1)\n",
    "rf = RandomForestClassifier(n_estimators=200, max_depth=20)\n",
    "rf.fit(ent_X, ent_y)\n",
    "\n",
    "# Imprimir resultados\n",
    "print(\"Random Forest Ajustado 1\")\n",
    "print(classification_report(prueba_y, rf.predict(prueba_X)))\n"
   ]
  },
  {
   "cell_type": "markdown",
   "metadata": {},
   "source": [
    "Luego de ajustar manualmente el número de árboles a 200 y la profundidad máxima  a 20, el modelo mejoró considerablemente.\n",
    "\n",
    "En el modelo inicial, solo sabía predecir correctamente las opiniones positivas, ignorando casi por completo las negativas.\n",
    "\n",
    "Con los nuevos parámetros, el modelo reconoce mucho mejor ambas clases:\n",
    "\n",
    "La clase negativa pasó de un f1-score de 0.01 a 0.63.\n",
    "\n",
    "La clase positiva subió ligeramente de 0.82 a 0.89.\n",
    "\n",
    "La precisión general aumentó de 0.69 a 0.83."
   ]
  },
  {
   "cell_type": "code",
   "execution_count": null,
   "metadata": {},
   "outputs": [
    {
     "name": "stdout",
     "output_type": "stream",
     "text": [
      "Random Forest Ajustado 2 \n",
      "              precision    recall  f1-score   support\n",
      "\n",
      "           0       0.96      0.65      0.77     20835\n",
      "           1       0.86      0.99      0.92     46031\n",
      "\n",
      "    accuracy                           0.88     66866\n",
      "   macro avg       0.91      0.82      0.85     66866\n",
      "weighted avg       0.89      0.88      0.87     66866\n",
      "\n"
     ]
    }
   ],
   "source": [
    "# Leer el archivo CSV con los datos y eliminar filas vacías\n",
    "df = pd.read_csv(\"Amazon_Unlocked_Mobile.csv\")\n",
    "df.dropna(inplace=True)\n",
    "\n",
    "# Crear una columna  binaria llamada \"Positividad\" donde:\n",
    "# Las reseñas con puntuación >= 4 se marcan como 1 (positiva)\n",
    "# Las demás como 0 (negativa)\n",
    "df[\"Positividad\"] = df[\"Rating\"].map(lambda x: 1 if x >= 4 else 0)\n",
    "\n",
    "\n",
    "# Convertir el texto de las reseñas a números\n",
    "vectorizer = TfidfVectorizer(max_features=5000)\n",
    "X = vectorizer.fit_transform(df[\"Reviews\"].astype(str))\n",
    "y = df[\"Positividad\"]\n",
    "\n",
    "# Dividir los datos en entrenamiento (ent) y prueba (prueba)\n",
    "ent_X, prueba_X, ent_y, prueba_y = train_test_split(X, y, test_size=0.2, random_state=42)\n",
    "\n",
    "# Crear y entrenar un modelo de Random Forest con 300 árboles y profundidad máxima de 30 (Parametros Ajustados 2)\n",
    "rf = RandomForestClassifier(n_estimators=300, max_depth=30)\n",
    "rf.fit(ent_X, ent_y)\n",
    "\n",
    "# Imprimir resultados\n",
    "print(\"Random Forest Ajustado 2 \")\n",
    "print(classification_report(prueba_y, rf.predict(prueba_X)))\n"
   ]
  },
  {
   "cell_type": "markdown",
   "metadata": {},
   "source": [
    "A medida que se aumento el número de árboles y la profundidad, el modelo fue aprendiendo mejor.\n",
    "\n",
    "El modelo inicial no detectaba casi ninguna reseña negativa (clase 0).\n",
    "\n",
    "El primer ajuste (200, 20) mejoró notablemente la detección de ambas clases.\n",
    "\n",
    "El segundo ajuste (300, 30) ofreció un mejor desempeño, con una precisión total del 88% y un f1-score balanceado muy alto (0.85).\n",
    "\n",
    "Esto indica que el modelo con esos parámetros es el que ofrece la mejor calidad de predicción hasta el momento."
   ]
  },
  {
   "cell_type": "code",
   "execution_count": null,
   "metadata": {},
   "outputs": [
    {
     "name": "stdout",
     "output_type": "stream",
     "text": [
      "Random Forest Ajustado 3\n",
      "              precision    recall  f1-score   support\n",
      "\n",
      "           0       0.96      0.74      0.83     20835\n",
      "           1       0.89      0.98      0.94     46031\n",
      "\n",
      "    accuracy                           0.91     66866\n",
      "   macro avg       0.92      0.86      0.88     66866\n",
      "weighted avg       0.91      0.91      0.90     66866\n",
      "\n"
     ]
    }
   ],
   "source": [
    "# Leer el archivo CSV con los datos y eliminar filas vacías\n",
    "df = pd.read_csv(\"Amazon_Unlocked_Mobile.csv\")\n",
    "df.dropna(inplace=True)\n",
    "\n",
    "\n",
    "# Crear una columna  binaria llamada \"Positividad\" donde:\n",
    "# Las reseñas con puntuación >= 4 se marcan como 1 (positiva)\n",
    "# Las demás como 0 (negativa)\n",
    "df[\"Positividad\"] = df[\"Rating\"].map(lambda x: 1 if x >= 4 else 0)\n",
    "\n",
    "# Convertir el texto de las reseñas a números\n",
    "vectorizer = TfidfVectorizer(max_features=5000)\n",
    "X = vectorizer.fit_transform(df[\"Reviews\"].astype(str))\n",
    "y = df[\"Positividad\"]\n",
    "\n",
    "# Dividir los datos en entrenamiento (ent) y prueba (prueba)\n",
    "ent_X, prueba_X, ent_y, prueba_y = train_test_split(X, y, test_size=0.2, random_state=42)\n",
    "\n",
    "\n",
    "# Crear y entrenar un modelo de Random Forest con 400 árboles y profundidad máxima de 40 (Parametros Ajustados 3)\n",
    "rf = RandomForestClassifier(n_estimators=400, max_depth=40)\n",
    "rf.fit(ent_X, ent_y)\n",
    "\n",
    "# Imprimir resultados\n",
    "print(\"Random Forest Ajustado 3\")\n",
    "print(classification_report(prueba_y, rf.predict(prueba_X)))"
   ]
  },
  {
   "cell_type": "markdown",
   "metadata": {},
   "source": [
    "Este modelo mejora ligeramente respecto al anterior. La clase 0 obtiene un recall de 0.74 y un f1-score de 0.83, mientras que la clase 1 sigue muy fuerte con un f1-score de 0.94. La accuracy sube a 0.91, y el f1-score macro a 0.88. Esto indica que el modelo está logrando un equilibrio bastante bueno entre ambas clases."
   ]
  },
  {
   "cell_type": "code",
   "execution_count": null,
   "metadata": {},
   "outputs": [
    {
     "name": "stdout",
     "output_type": "stream",
     "text": [
      "Random Forest Ajustado 4\n",
      "              precision    recall  f1-score   support\n",
      "\n",
      "           0       0.96      0.79      0.87     20835\n",
      "           1       0.91      0.98      0.95     46031\n",
      "\n",
      "    accuracy                           0.92     66866\n",
      "   macro avg       0.94      0.89      0.91     66866\n",
      "weighted avg       0.93      0.92      0.92     66866\n",
      "\n"
     ]
    }
   ],
   "source": [
    "# Leer el archivo CSV con los datos y eliminar filas vacías\n",
    "df = pd.read_csv(\"Amazon_Unlocked_Mobile.csv\")\n",
    "df.dropna(inplace=True)\n",
    "\n",
    "\n",
    "# Crear una columna  binaria llamada \"Positividad\" donde:\n",
    "# Las reseñas con puntuación >= 4 se marcan como 1 (positiva)\n",
    "# Las demás como 0 (negativa)\n",
    "df[\"Positividad\"] = df[\"Rating\"].map(lambda x: 1 if x >= 4 else 0)\n",
    "\n",
    "# Convertir el texto de las reseñas a números\n",
    "vectorizer = TfidfVectorizer(max_features=5000)\n",
    "X = vectorizer.fit_transform(df[\"Reviews\"].astype(str))\n",
    "y = df[\"Positividad\"]\n",
    "# Dividir los datos en entrenamiento (ent) y prueba (prueba)\n",
    "ent_X, prueba_X, ent_y, prueba_y = train_test_split(X, y, test_size=0.2, random_state=42)\n",
    "\n",
    "\n",
    "# Crear y entrenar un modelo de Random Forest con 500 árboles y profundidad máxima de 50 (Parametros Ajustados 4)\n",
    "rf = RandomForestClassifier(n_estimators=500, max_depth=50)\n",
    "rf.fit(ent_X, ent_y)\n",
    "# Imprimir resultados\n",
    "print(\"Random Forest Ajustado 4\")\n",
    "print(classification_report(prueba_y, rf.predict(prueba_X)))"
   ]
  },
  {
   "cell_type": "markdown",
   "metadata": {},
   "source": [
    "Este es el mejor modelo hasta ahora. Logra un recall de 0.79 y f1-score de 0.87 en la clase 0, y 0.95 en la clase 1. La accuracy es 0.92, y el f1-score macro alcanza 0.91. Esta combinación de precisión y equilibrio entre clases muestra que el modelo con más árboles y profundidad más alta tiene la mayor capacidad predictiva."
   ]
  },
  {
   "cell_type": "code",
   "execution_count": null,
   "metadata": {},
   "outputs": [
    {
     "name": "stdout",
     "output_type": "stream",
     "text": [
      "Fitting 3 folds for each of 18 candidates, totalling 54 fits\n",
      "[CV] END ..class_weight=None, max_depth=10, n_estimators=100; total time=  16.1s\n",
      "[CV] END ..class_weight=None, max_depth=10, n_estimators=100; total time=  16.1s\n",
      "[CV] END ..class_weight=None, max_depth=10, n_estimators=100; total time=  16.2s\n",
      "[CV] END ..class_weight=None, max_depth=10, n_estimators=200; total time=  30.1s\n",
      "[CV] END ..class_weight=None, max_depth=10, n_estimators=200; total time=  30.4s\n",
      "[CV] END ..class_weight=None, max_depth=10, n_estimators=200; total time=  30.5s\n",
      "[CV] END ..class_weight=None, max_depth=10, n_estimators=300; total time=  43.9s\n",
      "[CV] END ..class_weight=None, max_depth=10, n_estimators=300; total time=  44.1s\n",
      "[CV] END ..class_weight=None, max_depth=20, n_estimators=100; total time=  39.1s\n",
      "[CV] END ..class_weight=None, max_depth=20, n_estimators=100; total time=  40.1s\n",
      "[CV] END ..class_weight=None, max_depth=10, n_estimators=300; total time=  41.8s\n",
      "[CV] END ..class_weight=None, max_depth=20, n_estimators=100; total time=  38.7s\n",
      "[CV] END ..class_weight=None, max_depth=20, n_estimators=200; total time= 1.3min\n",
      "[CV] END ..class_weight=None, max_depth=20, n_estimators=200; total time= 1.3min\n",
      "[CV] END ..class_weight=None, max_depth=20, n_estimators=200; total time= 1.3min\n",
      "[CV] END ..class_weight=None, max_depth=30, n_estimators=100; total time= 1.3min\n",
      "[CV] END ..class_weight=None, max_depth=30, n_estimators=100; total time= 1.3min\n",
      "[CV] END ..class_weight=None, max_depth=20, n_estimators=300; total time= 1.9min\n",
      "[CV] END ..class_weight=None, max_depth=20, n_estimators=300; total time= 1.9min\n",
      "[CV] END ..class_weight=None, max_depth=20, n_estimators=300; total time= 1.9min\n",
      "[CV] END ..class_weight=None, max_depth=30, n_estimators=100; total time= 1.3min\n",
      "[CV] END class_weight=balanced, max_depth=10, n_estimators=100; total time=  18.5s\n",
      "[CV] END class_weight=balanced, max_depth=10, n_estimators=100; total time=  18.0s\n",
      "[CV] END class_weight=balanced, max_depth=10, n_estimators=100; total time=  18.3s\n",
      "[CV] END class_weight=balanced, max_depth=10, n_estimators=200; total time=  40.1s\n",
      "[CV] END class_weight=balanced, max_depth=10, n_estimators=200; total time=  40.2s\n",
      "[CV] END ..class_weight=None, max_depth=30, n_estimators=200; total time= 2.6min\n",
      "[CV] END ..class_weight=None, max_depth=30, n_estimators=200; total time= 2.6min\n",
      "[CV] END class_weight=balanced, max_depth=10, n_estimators=200; total time=  38.5s\n",
      "[CV] END ..class_weight=None, max_depth=30, n_estimators=200; total time= 2.6min\n",
      "[CV] END class_weight=balanced, max_depth=10, n_estimators=300; total time=  55.7s\n",
      "[CV] END class_weight=balanced, max_depth=10, n_estimators=300; total time=  55.6s\n",
      "[CV] END class_weight=balanced, max_depth=10, n_estimators=300; total time=  56.9s\n",
      "[CV] END class_weight=balanced, max_depth=20, n_estimators=100; total time= 1.3min\n",
      "[CV] END class_weight=balanced, max_depth=20, n_estimators=100; total time= 1.3min\n",
      "[CV] END ..class_weight=None, max_depth=30, n_estimators=300; total time= 3.9min\n",
      "[CV] END class_weight=balanced, max_depth=20, n_estimators=100; total time= 1.3min\n",
      "[CV] END ..class_weight=None, max_depth=30, n_estimators=300; total time= 3.9min\n",
      "[CV] END ..class_weight=None, max_depth=30, n_estimators=300; total time= 3.9min\n",
      "[CV] END class_weight=balanced, max_depth=20, n_estimators=200; total time= 2.5min\n",
      "[CV] END class_weight=balanced, max_depth=20, n_estimators=200; total time= 2.4min\n",
      "[CV] END class_weight=balanced, max_depth=20, n_estimators=200; total time= 2.4min\n",
      "[CV] END class_weight=balanced, max_depth=30, n_estimators=100; total time= 2.7min\n",
      "[CV] END class_weight=balanced, max_depth=30, n_estimators=100; total time= 2.7min\n",
      "[CV] END class_weight=balanced, max_depth=20, n_estimators=300; total time= 3.5min\n",
      "[CV] END class_weight=balanced, max_depth=20, n_estimators=300; total time= 3.5min\n",
      "[CV] END class_weight=balanced, max_depth=20, n_estimators=300; total time= 3.5min\n",
      "[CV] END class_weight=balanced, max_depth=30, n_estimators=100; total time= 2.6min\n",
      "[CV] END class_weight=balanced, max_depth=30, n_estimators=200; total time= 4.5min\n",
      "[CV] END class_weight=balanced, max_depth=30, n_estimators=200; total time= 4.4min\n",
      "[CV] END class_weight=balanced, max_depth=30, n_estimators=200; total time= 3.9min\n",
      "[CV] END class_weight=balanced, max_depth=30, n_estimators=300; total time= 4.8min\n",
      "[CV] END class_weight=balanced, max_depth=30, n_estimators=300; total time= 4.5min\n",
      "[CV] END class_weight=balanced, max_depth=30, n_estimators=300; total time= 4.4min\n",
      " Mejor combinación de hiperparámetros: {'class_weight': 'balanced', 'max_depth': 30, 'n_estimators': 300}\n",
      " Reporte en prueba:\n",
      "              precision    recall  f1-score   support\n",
      "\n",
      "           0       0.83      0.86      0.84     20835\n",
      "           1       0.93      0.92      0.93     46031\n",
      "\n",
      "    accuracy                           0.90     66866\n",
      "   macro avg       0.88      0.89      0.88     66866\n",
      "weighted avg       0.90      0.90      0.90     66866\n",
      "\n"
     ]
    }
   ],
   "source": [
    "from sklearn.model_selection import GridSearchCV\n",
    "\n",
    "# Leer el archivo CSV con los datos y eliminar filas vacías\n",
    "df = pd.read_csv(\"Amazon_Unlocked_Mobile.csv\")\n",
    "df.dropna(inplace=True)\n",
    "# Crear una columna  binaria llamada \"Positividad\" donde:\n",
    "# Las reseñas con puntuación >= 4 se marcan como 1 (positiva)\n",
    "# Las demás como 0 (negativa)\n",
    "df[\"Positividad\"] = df[\"Rating\"].map(lambda x: 1 if x >= 4 else 0)\n",
    "\n",
    "# Convertir el texto de las reseñas a números\n",
    "vectorizer = TfidfVectorizer(max_features=5000)\n",
    "X = vectorizer.fit_transform(df[\"Reviews\"].astype(str))\n",
    "y = df[\"Positividad\"]\n",
    "# Dividir los datos en entrenamiento (ent) y prueba (prueba)\n",
    "ent_X, prueba_X, ent_y, prueba_y = train_test_split(X, y, test_size=0.2, random_state=42)\n",
    "\n",
    "# Definir modelo base\n",
    "rf = RandomForestClassifier(random_state=42, n_jobs=-1)\n",
    "\n",
    "# Parámetros para probar \n",
    "param_grid = {\n",
    "    \"n_estimators\": [100, 200, 300],\n",
    "    \"max_depth\": [10, 20, 30],\n",
    "    \"class_weight\": [None, \"balanced\"]\n",
    "}\n",
    "\n",
    "# GridSearchCV\n",
    "grid = GridSearchCV(\n",
    "    rf,\n",
    "    param_grid,\n",
    "    cv=3,\n",
    "    scoring=\"f1_macro\",  \n",
    "    verbose=2,\n",
    "    n_jobs=-1\n",
    ")\n",
    "\n",
    "# Entrenar búsqueda\n",
    "grid.fit(ent_X, ent_y)\n",
    "\n",
    "# Imprimir resultados\n",
    "print(\" Mejor combinación de hiperparámetros:\", grid.best_params_)\n",
    "print(\" Reporte en prueba:\")\n",
    "print(classification_report(prueba_y, grid.best_estimator_.predict(prueba_X)))\n"
   ]
  },
  {
   "cell_type": "markdown",
   "metadata": {},
   "source": [
    "En lugar de ajustar los hiperparámetros manualmente, ahora se aplicó GridSearchCV, una técnica de búsqueda exhaustiva que prueba todas las combinaciones posibles de los parámetros indicados. En este caso se probaron 18 combinaciones distintas de n_estimators, max_depth y class_weight. Esto dio como resultado 54 ejecuciones diferentes del modelo.\n",
    "El modelo encontró que la mejor combinación fue n_estimators=300, max_depth=30 y class_weight=balanced. Este ajuste alcanzó una precisión del 90% y mejoró de manera equilibrada el desempeño para ambas clases (0.84 y 0.93). Comparado con el modelo ajustado manualmente con esos mismos parámetros (300, 30), GridSearch logró un rendimiento ligeramente superior, principalmente gracias a la inclusión del parámetro class_weight='balanced', que ayudó a compensar el desbalance entre clases. Por otra parte, si lo comparamos con el modelo manual más afinado (n_estimators=500, max_depth=50), que alcanzó una precisión del 92%, vemos que este último fue superior. Sin embargo, GridSearch no exploró combinaciones con árboles más profundos ni mayor cantidad de estimadores debido a limitaciones prácticas como el peso del dataset y el tiempo de cómputo elevado.\n",
    "\n"
   ]
  },
  {
   "cell_type": "code",
   "execution_count": null,
   "metadata": {},
   "outputs": [
    {
     "name": "stdout",
     "output_type": "stream",
     "text": [
      "Fitting 3 folds for each of 10 candidates, totalling 30 fits\n",
      "[CV] END ..class_weight=None, max_depth=10, n_estimators=100; total time=  15.6s\n",
      "[CV] END ..class_weight=None, max_depth=10, n_estimators=100; total time=  15.9s\n",
      "[CV] END ..class_weight=None, max_depth=10, n_estimators=100; total time=  16.1s\n",
      "[CV] END ..class_weight=None, max_depth=20, n_estimators=100; total time=  41.5s\n",
      "[CV] END ..class_weight=None, max_depth=20, n_estimators=100; total time=  41.5s\n",
      "[CV] END ..class_weight=None, max_depth=20, n_estimators=100; total time=  41.8s\n",
      "[CV] END class_weight=balanced, max_depth=20, n_estimators=200; total time= 3.6min\n",
      "[CV] END class_weight=balanced, max_depth=20, n_estimators=200; total time= 3.6min\n",
      "[CV] END class_weight=balanced, max_depth=20, n_estimators=200; total time= 3.7min\n",
      "[CV] END class_weight=balanced, max_depth=40, n_estimators=100; total time= 7.4min\n",
      "[CV] END class_weight=balanced, max_depth=40, n_estimators=100; total time= 7.5min\n",
      "[CV] END class_weight=balanced, max_depth=40, n_estimators=100; total time= 7.9min\n",
      "[CV] END ..class_weight=None, max_depth=30, n_estimators=400; total time= 9.2min\n",
      "[CV] END ..class_weight=None, max_depth=30, n_estimators=400; total time= 9.2min\n",
      "[CV] END class_weight=balanced, max_depth=10, n_estimators=400; total time= 2.3min\n",
      "[CV] END class_weight=balanced, max_depth=10, n_estimators=400; total time= 2.3min\n",
      "[CV] END class_weight=balanced, max_depth=10, n_estimators=400; total time= 2.3min\n",
      "[CV] END ..class_weight=None, max_depth=30, n_estimators=400; total time= 9.7min\n",
      "[CV] END ..class_weight=None, max_depth=30, n_estimators=300; total time= 7.8min\n",
      "[CV] END ..class_weight=None, max_depth=30, n_estimators=300; total time= 7.8min\n",
      "[CV] END ..class_weight=None, max_depth=30, n_estimators=300; total time= 8.2min\n",
      "[CV] END class_weight=balanced, max_depth=40, n_estimators=400; total time=34.4min\n",
      "[CV] END class_weight=balanced, max_depth=40, n_estimators=400; total time=34.3min\n",
      "[CV] END class_weight=balanced, max_depth=40, n_estimators=400; total time=34.2min\n",
      "[CV] END class_weight=balanced, max_depth=50, n_estimators=500; total time=52.0min\n",
      "[CV] END class_weight=balanced, max_depth=50, n_estimators=500; total time=52.1min\n",
      "[CV] END class_weight=balanced, max_depth=50, n_estimators=500; total time=50.2min\n",
      "[CV] END class_weight=balanced, max_depth=None, n_estimators=300; total time=46.6min\n",
      "[CV] END class_weight=balanced, max_depth=None, n_estimators=300; total time=40.9min\n",
      "[CV] END class_weight=balanced, max_depth=None, n_estimators=300; total time=25.7min\n",
      "Mejores parámetros encontrados: {'n_estimators': 300, 'max_depth': None, 'class_weight': 'balanced'}\n",
      " Reporte de clasificación:\n",
      "              precision    recall  f1-score   support\n",
      "\n",
      "           0       0.95      0.92      0.93     20835\n",
      "           1       0.96      0.98      0.97     46031\n",
      "\n",
      "    accuracy                           0.96     66866\n",
      "   macro avg       0.96      0.95      0.95     66866\n",
      "weighted avg       0.96      0.96      0.96     66866\n",
      "\n"
     ]
    }
   ],
   "source": [
    "\n",
    "from sklearn.model_selection import train_test_split, RandomizedSearchCV\n",
    "\n",
    "# Leer el archivo CSV con los datos y eliminar filas vacías\n",
    "datos = pd.read_csv(\"Amazon_Unlocked_Mobile.csv\")\n",
    "datos.dropna(inplace=True)\n",
    "# Crear una columna  binaria llamada \"Positividad\" donde:\n",
    "# Las reseñas con puntuación >= 4 se marcan como 1 (positiva)\n",
    "# Las demás como 0 (negativa)\n",
    "datos[\"Positividad\"] = datos[\"Rating\"].apply(lambda x: 1 if x >= 4 else 0)\n",
    "\n",
    "# Convertir el texto de las reseñas a números\n",
    "vector = TfidfVectorizer(max_features=5000)\n",
    "X = vector.fit_transform(datos[\"Reviews\"].astype(str))\n",
    "y = datos[\"Positividad\"]\n",
    "\n",
    "# Dividir los datos en entrenamiento (ent) y prueba (prueba)\n",
    "ent_X, prueba_X, ent_y, prueba_y = train_test_split(X, y, test_size=0.2, random_state=42)\n",
    "\n",
    "# Definir modelo base\n",
    "modelo = RandomForestClassifier(random_state=42, n_jobs=-1)\n",
    "\n",
    "# Parámetros para probar aleatoriamente\n",
    "parametros = {\n",
    "    \"n_estimators\": [100, 200, 300, 400, 500],\n",
    "    \"max_depth\": [10, 20, 30, 40,50, None],\n",
    "    \"class_weight\": [None, \"balanced\"]\n",
    "}\n",
    "\n",
    "# Búsqueda aleatoria\n",
    "busqueda = RandomizedSearchCV(\n",
    "    modelo,\n",
    "    param_distributions=parametros,\n",
    "    n_iter=10,\n",
    "    scoring='f1_macro',\n",
    "    cv=3,\n",
    "    verbose=2,\n",
    "    n_jobs=-1,\n",
    "    random_state=42\n",
    ")\n",
    "\n",
    "# Entrenar modelo\n",
    "busqueda.fit(ent_X, ent_y)\n",
    "\n",
    "# Evaluar mejor modelo\n",
    "mejor_modelo = busqueda.best_estimator_\n",
    "predicciones = mejor_modelo.predict(prueba_X)\n",
    "\n",
    "# Imprimir resultados\n",
    "print(\"Mejores parámetros encontrados:\", busqueda.best_params_)\n",
    "print(\" Reporte de clasificación:\")\n",
    "print(classification_report(prueba_y, predicciones))\n"
   ]
  },
  {
   "cell_type": "markdown",
   "metadata": {},
   "source": [
    "Este modelo utilizó una búsqueda aleatoria de hiperparámetros (RandomizedSearchCV) para encontrar una combinación óptima dentro de un rango más amplio de opciones, incluyendo hasta 500 árboles y profundidades de hasta 50. El mejor resultado obtenido fue con 300 árboles, profundidad indefinida (None) y class_weight='balanced', logrando una accuracy del 96%. Estos resultados superan tanto al GridSearch anterior como al mejor ajuste manual (500 árboles, profundidad 50). Esta mejora notable puede deberse a la exploración aleatoria en un espacio de búsqueda más amplio."
   ]
  },
  {
   "cell_type": "code",
   "execution_count": null,
   "metadata": {},
   "outputs": [
    {
     "name": "stdout",
     "output_type": "stream",
     "text": [
      "\n",
      "Comparación de resultados entre modelos:\n",
      "\n",
      "                                     Modelo  Accuracy  F1-score  Tiempo (min)\n",
      "0                          Inicial (100, 4)      0.69      0.56         0.175\n",
      "1                      Ajustado 1 (200, 20)      0.83      0.81         0.913\n",
      "2                      Ajustado 2 (300, 30)      0.88      0.87         2.587\n",
      "3                      Ajustado 3 (400, 40)      0.91      0.90         5.308\n",
      "4                      Ajustado 4 (500, 50)      0.92      0.92         8.717\n",
      "5          GridSearchCV (300, 30, balanced)      0.90      0.90        18.000\n",
      "6  RandomizedSearchCV (300, None, balanced)      0.96      0.96        80.000\n"
     ]
    }
   ],
   "source": [
    "\n",
    "\n",
    "# Crear un DataFrame con los resultados de los diferentes modelos evaluados\n",
    "resultados = pd.DataFrame({\n",
    "    \"Modelo\": [\n",
    "        \"Inicial (100, 4)\",\n",
    "        \"Ajustado 1 (200, 20)\",\n",
    "        \"Ajustado 2 (300, 30)\",\n",
    "        \"Ajustado 3 (400, 40)\",\n",
    "        \"Ajustado 4 (500, 50)\",\n",
    "        \"GridSearchCV (300, 30, balanced)\",\n",
    "        \"RandomizedSearchCV (300, None, balanced)\"\n",
    "    ],\n",
    "    \"Accuracy\": [0.69, 0.83, 0.88, 0.91, 0.92, 0.90, 0.96],\n",
    "    \"F1-score\": [0.56, 0.81, 0.87, 0.90, 0.92, 0.90, 0.96],\n",
    "    \"Tiempo (min)\": [0.175, 0.913, 2.587, 5.308, 8.717, 18.0, 80.0]\n",
    "})\n",
    "\n",
    "# Mostrar la tabla de resultados \n",
    "print(\"\\nComparación de resultados entre modelos:\\n\")\n",
    "print(resultados)\n",
    "\n"
   ]
  },
  {
   "cell_type": "code",
   "execution_count": null,
   "metadata": {},
   "outputs": [
    {
     "data": {
      "application/vnd.plotly.v1+json": {
       "config": {
        "plotlyServerURL": "https://plot.ly"
       },
       "data": [
        {
         "hovertemplate": "Modelo=%{x}<br>Accuracy=%{marker.color}<extra></extra>",
         "legendgroup": "",
         "marker": {
          "color": {
           "bdata": "FK5H4XoU5j+PwvUoXI/qPylcj8L1KOw/H4XrUbge7T9xPQrXo3DtP83MzMzMzOw/uB6F61G47j8=",
           "dtype": "f8"
          },
          "coloraxis": "coloraxis",
          "pattern": {
           "shape": ""
          }
         },
         "name": "",
         "orientation": "v",
         "showlegend": false,
         "text": {
          "bdata": "FK5H4XoU5j+PwvUoXI/qPylcj8L1KOw/H4XrUbge7T9xPQrXo3DtP83MzMzMzOw/uB6F61G47j8=",
          "dtype": "f8"
         },
         "textposition": "outside",
         "texttemplate": "%{text:.2f}",
         "type": "bar",
         "x": [
          "Inicial (100, 4)",
          "Ajustado 1 (200, 20)",
          "Ajustado 2 (300, 30)",
          "Ajustado 3 (400, 40)",
          "Ajustado 4 (500, 50)",
          "GridSearchCV (300, 30, balanced)",
          "RandomizedSearchCV (300, None, balanced)"
         ],
         "xaxis": "x",
         "y": {
          "bdata": "FK5H4XoU5j+PwvUoXI/qPylcj8L1KOw/H4XrUbge7T9xPQrXo3DtP83MzMzMzOw/uB6F61G47j8=",
          "dtype": "f8"
         },
         "yaxis": "y"
        }
       ],
       "layout": {
        "barmode": "relative",
        "coloraxis": {
         "colorbar": {
          "title": {
           "text": "Accuracy"
          }
         },
         "colorscale": [
          [
           0,
           "rgb(247,251,255)"
          ],
          [
           0.125,
           "rgb(222,235,247)"
          ],
          [
           0.25,
           "rgb(198,219,239)"
          ],
          [
           0.375,
           "rgb(158,202,225)"
          ],
          [
           0.5,
           "rgb(107,174,214)"
          ],
          [
           0.625,
           "rgb(66,146,198)"
          ],
          [
           0.75,
           "rgb(33,113,181)"
          ],
          [
           0.875,
           "rgb(8,81,156)"
          ],
          [
           1,
           "rgb(8,48,107)"
          ]
         ]
        },
        "legend": {
         "tracegroupgap": 0
        },
        "template": {
         "data": {
          "bar": [
           {
            "error_x": {
             "color": "#2a3f5f"
            },
            "error_y": {
             "color": "#2a3f5f"
            },
            "marker": {
             "line": {
              "color": "#E5ECF6",
              "width": 0.5
             },
             "pattern": {
              "fillmode": "overlay",
              "size": 10,
              "solidity": 0.2
             }
            },
            "type": "bar"
           }
          ],
          "barpolar": [
           {
            "marker": {
             "line": {
              "color": "#E5ECF6",
              "width": 0.5
             },
             "pattern": {
              "fillmode": "overlay",
              "size": 10,
              "solidity": 0.2
             }
            },
            "type": "barpolar"
           }
          ],
          "carpet": [
           {
            "aaxis": {
             "endlinecolor": "#2a3f5f",
             "gridcolor": "white",
             "linecolor": "white",
             "minorgridcolor": "white",
             "startlinecolor": "#2a3f5f"
            },
            "baxis": {
             "endlinecolor": "#2a3f5f",
             "gridcolor": "white",
             "linecolor": "white",
             "minorgridcolor": "white",
             "startlinecolor": "#2a3f5f"
            },
            "type": "carpet"
           }
          ],
          "choropleth": [
           {
            "colorbar": {
             "outlinewidth": 0,
             "ticks": ""
            },
            "type": "choropleth"
           }
          ],
          "contour": [
           {
            "colorbar": {
             "outlinewidth": 0,
             "ticks": ""
            },
            "colorscale": [
             [
              0,
              "#0d0887"
             ],
             [
              0.1111111111111111,
              "#46039f"
             ],
             [
              0.2222222222222222,
              "#7201a8"
             ],
             [
              0.3333333333333333,
              "#9c179e"
             ],
             [
              0.4444444444444444,
              "#bd3786"
             ],
             [
              0.5555555555555556,
              "#d8576b"
             ],
             [
              0.6666666666666666,
              "#ed7953"
             ],
             [
              0.7777777777777778,
              "#fb9f3a"
             ],
             [
              0.8888888888888888,
              "#fdca26"
             ],
             [
              1,
              "#f0f921"
             ]
            ],
            "type": "contour"
           }
          ],
          "contourcarpet": [
           {
            "colorbar": {
             "outlinewidth": 0,
             "ticks": ""
            },
            "type": "contourcarpet"
           }
          ],
          "heatmap": [
           {
            "colorbar": {
             "outlinewidth": 0,
             "ticks": ""
            },
            "colorscale": [
             [
              0,
              "#0d0887"
             ],
             [
              0.1111111111111111,
              "#46039f"
             ],
             [
              0.2222222222222222,
              "#7201a8"
             ],
             [
              0.3333333333333333,
              "#9c179e"
             ],
             [
              0.4444444444444444,
              "#bd3786"
             ],
             [
              0.5555555555555556,
              "#d8576b"
             ],
             [
              0.6666666666666666,
              "#ed7953"
             ],
             [
              0.7777777777777778,
              "#fb9f3a"
             ],
             [
              0.8888888888888888,
              "#fdca26"
             ],
             [
              1,
              "#f0f921"
             ]
            ],
            "type": "heatmap"
           }
          ],
          "histogram": [
           {
            "marker": {
             "pattern": {
              "fillmode": "overlay",
              "size": 10,
              "solidity": 0.2
             }
            },
            "type": "histogram"
           }
          ],
          "histogram2d": [
           {
            "colorbar": {
             "outlinewidth": 0,
             "ticks": ""
            },
            "colorscale": [
             [
              0,
              "#0d0887"
             ],
             [
              0.1111111111111111,
              "#46039f"
             ],
             [
              0.2222222222222222,
              "#7201a8"
             ],
             [
              0.3333333333333333,
              "#9c179e"
             ],
             [
              0.4444444444444444,
              "#bd3786"
             ],
             [
              0.5555555555555556,
              "#d8576b"
             ],
             [
              0.6666666666666666,
              "#ed7953"
             ],
             [
              0.7777777777777778,
              "#fb9f3a"
             ],
             [
              0.8888888888888888,
              "#fdca26"
             ],
             [
              1,
              "#f0f921"
             ]
            ],
            "type": "histogram2d"
           }
          ],
          "histogram2dcontour": [
           {
            "colorbar": {
             "outlinewidth": 0,
             "ticks": ""
            },
            "colorscale": [
             [
              0,
              "#0d0887"
             ],
             [
              0.1111111111111111,
              "#46039f"
             ],
             [
              0.2222222222222222,
              "#7201a8"
             ],
             [
              0.3333333333333333,
              "#9c179e"
             ],
             [
              0.4444444444444444,
              "#bd3786"
             ],
             [
              0.5555555555555556,
              "#d8576b"
             ],
             [
              0.6666666666666666,
              "#ed7953"
             ],
             [
              0.7777777777777778,
              "#fb9f3a"
             ],
             [
              0.8888888888888888,
              "#fdca26"
             ],
             [
              1,
              "#f0f921"
             ]
            ],
            "type": "histogram2dcontour"
           }
          ],
          "mesh3d": [
           {
            "colorbar": {
             "outlinewidth": 0,
             "ticks": ""
            },
            "type": "mesh3d"
           }
          ],
          "parcoords": [
           {
            "line": {
             "colorbar": {
              "outlinewidth": 0,
              "ticks": ""
             }
            },
            "type": "parcoords"
           }
          ],
          "pie": [
           {
            "automargin": true,
            "type": "pie"
           }
          ],
          "scatter": [
           {
            "fillpattern": {
             "fillmode": "overlay",
             "size": 10,
             "solidity": 0.2
            },
            "type": "scatter"
           }
          ],
          "scatter3d": [
           {
            "line": {
             "colorbar": {
              "outlinewidth": 0,
              "ticks": ""
             }
            },
            "marker": {
             "colorbar": {
              "outlinewidth": 0,
              "ticks": ""
             }
            },
            "type": "scatter3d"
           }
          ],
          "scattercarpet": [
           {
            "marker": {
             "colorbar": {
              "outlinewidth": 0,
              "ticks": ""
             }
            },
            "type": "scattercarpet"
           }
          ],
          "scattergeo": [
           {
            "marker": {
             "colorbar": {
              "outlinewidth": 0,
              "ticks": ""
             }
            },
            "type": "scattergeo"
           }
          ],
          "scattergl": [
           {
            "marker": {
             "colorbar": {
              "outlinewidth": 0,
              "ticks": ""
             }
            },
            "type": "scattergl"
           }
          ],
          "scattermap": [
           {
            "marker": {
             "colorbar": {
              "outlinewidth": 0,
              "ticks": ""
             }
            },
            "type": "scattermap"
           }
          ],
          "scattermapbox": [
           {
            "marker": {
             "colorbar": {
              "outlinewidth": 0,
              "ticks": ""
             }
            },
            "type": "scattermapbox"
           }
          ],
          "scatterpolar": [
           {
            "marker": {
             "colorbar": {
              "outlinewidth": 0,
              "ticks": ""
             }
            },
            "type": "scatterpolar"
           }
          ],
          "scatterpolargl": [
           {
            "marker": {
             "colorbar": {
              "outlinewidth": 0,
              "ticks": ""
             }
            },
            "type": "scatterpolargl"
           }
          ],
          "scatterternary": [
           {
            "marker": {
             "colorbar": {
              "outlinewidth": 0,
              "ticks": ""
             }
            },
            "type": "scatterternary"
           }
          ],
          "surface": [
           {
            "colorbar": {
             "outlinewidth": 0,
             "ticks": ""
            },
            "colorscale": [
             [
              0,
              "#0d0887"
             ],
             [
              0.1111111111111111,
              "#46039f"
             ],
             [
              0.2222222222222222,
              "#7201a8"
             ],
             [
              0.3333333333333333,
              "#9c179e"
             ],
             [
              0.4444444444444444,
              "#bd3786"
             ],
             [
              0.5555555555555556,
              "#d8576b"
             ],
             [
              0.6666666666666666,
              "#ed7953"
             ],
             [
              0.7777777777777778,
              "#fb9f3a"
             ],
             [
              0.8888888888888888,
              "#fdca26"
             ],
             [
              1,
              "#f0f921"
             ]
            ],
            "type": "surface"
           }
          ],
          "table": [
           {
            "cells": {
             "fill": {
              "color": "#EBF0F8"
             },
             "line": {
              "color": "white"
             }
            },
            "header": {
             "fill": {
              "color": "#C8D4E3"
             },
             "line": {
              "color": "white"
             }
            },
            "type": "table"
           }
          ]
         },
         "layout": {
          "annotationdefaults": {
           "arrowcolor": "#2a3f5f",
           "arrowhead": 0,
           "arrowwidth": 1
          },
          "autotypenumbers": "strict",
          "coloraxis": {
           "colorbar": {
            "outlinewidth": 0,
            "ticks": ""
           }
          },
          "colorscale": {
           "diverging": [
            [
             0,
             "#8e0152"
            ],
            [
             0.1,
             "#c51b7d"
            ],
            [
             0.2,
             "#de77ae"
            ],
            [
             0.3,
             "#f1b6da"
            ],
            [
             0.4,
             "#fde0ef"
            ],
            [
             0.5,
             "#f7f7f7"
            ],
            [
             0.6,
             "#e6f5d0"
            ],
            [
             0.7,
             "#b8e186"
            ],
            [
             0.8,
             "#7fbc41"
            ],
            [
             0.9,
             "#4d9221"
            ],
            [
             1,
             "#276419"
            ]
           ],
           "sequential": [
            [
             0,
             "#0d0887"
            ],
            [
             0.1111111111111111,
             "#46039f"
            ],
            [
             0.2222222222222222,
             "#7201a8"
            ],
            [
             0.3333333333333333,
             "#9c179e"
            ],
            [
             0.4444444444444444,
             "#bd3786"
            ],
            [
             0.5555555555555556,
             "#d8576b"
            ],
            [
             0.6666666666666666,
             "#ed7953"
            ],
            [
             0.7777777777777778,
             "#fb9f3a"
            ],
            [
             0.8888888888888888,
             "#fdca26"
            ],
            [
             1,
             "#f0f921"
            ]
           ],
           "sequentialminus": [
            [
             0,
             "#0d0887"
            ],
            [
             0.1111111111111111,
             "#46039f"
            ],
            [
             0.2222222222222222,
             "#7201a8"
            ],
            [
             0.3333333333333333,
             "#9c179e"
            ],
            [
             0.4444444444444444,
             "#bd3786"
            ],
            [
             0.5555555555555556,
             "#d8576b"
            ],
            [
             0.6666666666666666,
             "#ed7953"
            ],
            [
             0.7777777777777778,
             "#fb9f3a"
            ],
            [
             0.8888888888888888,
             "#fdca26"
            ],
            [
             1,
             "#f0f921"
            ]
           ]
          },
          "colorway": [
           "#636efa",
           "#EF553B",
           "#00cc96",
           "#ab63fa",
           "#FFA15A",
           "#19d3f3",
           "#FF6692",
           "#B6E880",
           "#FF97FF",
           "#FECB52"
          ],
          "font": {
           "color": "#2a3f5f"
          },
          "geo": {
           "bgcolor": "white",
           "lakecolor": "white",
           "landcolor": "#E5ECF6",
           "showlakes": true,
           "showland": true,
           "subunitcolor": "white"
          },
          "hoverlabel": {
           "align": "left"
          },
          "hovermode": "closest",
          "mapbox": {
           "style": "light"
          },
          "paper_bgcolor": "white",
          "plot_bgcolor": "#E5ECF6",
          "polar": {
           "angularaxis": {
            "gridcolor": "white",
            "linecolor": "white",
            "ticks": ""
           },
           "bgcolor": "#E5ECF6",
           "radialaxis": {
            "gridcolor": "white",
            "linecolor": "white",
            "ticks": ""
           }
          },
          "scene": {
           "xaxis": {
            "backgroundcolor": "#E5ECF6",
            "gridcolor": "white",
            "gridwidth": 2,
            "linecolor": "white",
            "showbackground": true,
            "ticks": "",
            "zerolinecolor": "white"
           },
           "yaxis": {
            "backgroundcolor": "#E5ECF6",
            "gridcolor": "white",
            "gridwidth": 2,
            "linecolor": "white",
            "showbackground": true,
            "ticks": "",
            "zerolinecolor": "white"
           },
           "zaxis": {
            "backgroundcolor": "#E5ECF6",
            "gridcolor": "white",
            "gridwidth": 2,
            "linecolor": "white",
            "showbackground": true,
            "ticks": "",
            "zerolinecolor": "white"
           }
          },
          "shapedefaults": {
           "line": {
            "color": "#2a3f5f"
           }
          },
          "ternary": {
           "aaxis": {
            "gridcolor": "white",
            "linecolor": "white",
            "ticks": ""
           },
           "baxis": {
            "gridcolor": "white",
            "linecolor": "white",
            "ticks": ""
           },
           "bgcolor": "#E5ECF6",
           "caxis": {
            "gridcolor": "white",
            "linecolor": "white",
            "ticks": ""
           }
          },
          "title": {
           "x": 0.05
          },
          "xaxis": {
           "automargin": true,
           "gridcolor": "white",
           "linecolor": "white",
           "ticks": "",
           "title": {
            "standoff": 15
           },
           "zerolinecolor": "white",
           "zerolinewidth": 2
          },
          "yaxis": {
           "automargin": true,
           "gridcolor": "white",
           "linecolor": "white",
           "ticks": "",
           "title": {
            "standoff": 15
           },
           "zerolinecolor": "white",
           "zerolinewidth": 2
          }
         }
        },
        "title": {
         "text": "Comparación de Precisión (Accuracy) por Modelo",
         "x": 0.5
        },
        "xaxis": {
         "anchor": "y",
         "domain": [
          0,
          1
         ],
         "title": {
          "text": "Modelo"
         }
        },
        "yaxis": {
         "anchor": "x",
         "domain": [
          0,
          1
         ],
         "title": {
          "text": "Accuracy"
         }
        }
       }
      }
     },
     "metadata": {},
     "output_type": "display_data"
    }
   ],
   "source": [
    "import plotly.express as px\n",
    "# Gráfico de barras para comparar la precisión (Accuracy) entre los modelos\n",
    "# Este gráfico permite comparar qué tan preciso fue cada modelo al clasificar correctamente.\n",
    "# Se puede observar la evolución del rendimiento conforme se ajustaron los parámetros manualmente\n",
    "# y cómo se comportaron los modelos optimizados con GridSearch y RandomSearch.\n",
    "fig_accuracy = px.bar(\n",
    "    resultados, x=\"Modelo\", y=\"Accuracy\",\n",
    "    title=\"Comparación de Precisión (Accuracy) por Modelo\",\n",
    "    text=\"Accuracy\", color=\"Accuracy\", color_continuous_scale=\"Blues\"\n",
    ")\n",
    "fig_accuracy.update_layout(\n",
    "    xaxis_title=\"Modelo\",\n",
    "    yaxis_title=\"Accuracy\",\n",
    "    title_x=0.5\n",
    ")\n",
    "fig_accuracy.update_traces(\n",
    "    texttemplate='%{text:.2f}',\n",
    "    textposition='outside'\n",
    ")"
   ]
  },
  {
   "cell_type": "markdown",
   "metadata": {},
   "source": [
    "La gráfica muestra una comparación de precisión (Accuracy) entre diferentes configuraciones de modelos. Se observa una mejora progresiva al ajustar manualmente los hiperparámetros, el modelo inicial con n_estimators=100 y max_depth=4 alcanza solo un 69% de precisión, mientras que los modelos ajustados manualmente incrementan este valor de forma sostenida, alcanzando un 92% en el ajuste 4 (n_estimators=500, max_depth=50). Por otro lado, el modelo optimizado mediante Grid Search obtiene una precisión de 90%, y el modelo con Randomized SearchCV supera a todos con una precisión del 96%, demostrando que la búsqueda automatizada de hiperparámetros puede ofrecer mejores resultados que el ajuste manual, aunque con un mayor costo computacional."
   ]
  },
  {
   "cell_type": "code",
   "execution_count": null,
   "metadata": {},
   "outputs": [
    {
     "data": {
      "application/vnd.plotly.v1+json": {
       "config": {
        "plotlyServerURL": "https://plot.ly"
       },
       "data": [
        {
         "hovertemplate": "Modelo=%{x}<br>F1-score=%{marker.color}<extra></extra>",
         "legendgroup": "",
         "marker": {
          "color": {
           "bdata": "7FG4HoXr4T/sUbgehevpP9ejcD0K1+s/zczMzMzM7D9xPQrXo3DtP83MzMzMzOw/uB6F61G47j8=",
           "dtype": "f8"
          },
          "coloraxis": "coloraxis",
          "pattern": {
           "shape": ""
          }
         },
         "name": "",
         "orientation": "v",
         "showlegend": false,
         "text": {
          "bdata": "7FG4HoXr4T/sUbgehevpP9ejcD0K1+s/zczMzMzM7D9xPQrXo3DtP83MzMzMzOw/uB6F61G47j8=",
          "dtype": "f8"
         },
         "textposition": "outside",
         "texttemplate": "%{text:.2f}",
         "type": "bar",
         "x": [
          "Inicial (100, 4)",
          "Ajustado 1 (200, 20)",
          "Ajustado 2 (300, 30)",
          "Ajustado 3 (400, 40)",
          "Ajustado 4 (500, 50)",
          "GridSearchCV (300, 30, balanced)",
          "RandomizedSearchCV (300, None, balanced)"
         ],
         "xaxis": "x",
         "y": {
          "bdata": "7FG4HoXr4T/sUbgehevpP9ejcD0K1+s/zczMzMzM7D9xPQrXo3DtP83MzMzMzOw/uB6F61G47j8=",
          "dtype": "f8"
         },
         "yaxis": "y"
        }
       ],
       "layout": {
        "barmode": "relative",
        "coloraxis": {
         "colorbar": {
          "title": {
           "text": "F1-score"
          }
         },
         "colorscale": [
          [
           0,
           "rgb(247,252,245)"
          ],
          [
           0.125,
           "rgb(229,245,224)"
          ],
          [
           0.25,
           "rgb(199,233,192)"
          ],
          [
           0.375,
           "rgb(161,217,155)"
          ],
          [
           0.5,
           "rgb(116,196,118)"
          ],
          [
           0.625,
           "rgb(65,171,93)"
          ],
          [
           0.75,
           "rgb(35,139,69)"
          ],
          [
           0.875,
           "rgb(0,109,44)"
          ],
          [
           1,
           "rgb(0,68,27)"
          ]
         ]
        },
        "legend": {
         "tracegroupgap": 0
        },
        "template": {
         "data": {
          "bar": [
           {
            "error_x": {
             "color": "#2a3f5f"
            },
            "error_y": {
             "color": "#2a3f5f"
            },
            "marker": {
             "line": {
              "color": "#E5ECF6",
              "width": 0.5
             },
             "pattern": {
              "fillmode": "overlay",
              "size": 10,
              "solidity": 0.2
             }
            },
            "type": "bar"
           }
          ],
          "barpolar": [
           {
            "marker": {
             "line": {
              "color": "#E5ECF6",
              "width": 0.5
             },
             "pattern": {
              "fillmode": "overlay",
              "size": 10,
              "solidity": 0.2
             }
            },
            "type": "barpolar"
           }
          ],
          "carpet": [
           {
            "aaxis": {
             "endlinecolor": "#2a3f5f",
             "gridcolor": "white",
             "linecolor": "white",
             "minorgridcolor": "white",
             "startlinecolor": "#2a3f5f"
            },
            "baxis": {
             "endlinecolor": "#2a3f5f",
             "gridcolor": "white",
             "linecolor": "white",
             "minorgridcolor": "white",
             "startlinecolor": "#2a3f5f"
            },
            "type": "carpet"
           }
          ],
          "choropleth": [
           {
            "colorbar": {
             "outlinewidth": 0,
             "ticks": ""
            },
            "type": "choropleth"
           }
          ],
          "contour": [
           {
            "colorbar": {
             "outlinewidth": 0,
             "ticks": ""
            },
            "colorscale": [
             [
              0,
              "#0d0887"
             ],
             [
              0.1111111111111111,
              "#46039f"
             ],
             [
              0.2222222222222222,
              "#7201a8"
             ],
             [
              0.3333333333333333,
              "#9c179e"
             ],
             [
              0.4444444444444444,
              "#bd3786"
             ],
             [
              0.5555555555555556,
              "#d8576b"
             ],
             [
              0.6666666666666666,
              "#ed7953"
             ],
             [
              0.7777777777777778,
              "#fb9f3a"
             ],
             [
              0.8888888888888888,
              "#fdca26"
             ],
             [
              1,
              "#f0f921"
             ]
            ],
            "type": "contour"
           }
          ],
          "contourcarpet": [
           {
            "colorbar": {
             "outlinewidth": 0,
             "ticks": ""
            },
            "type": "contourcarpet"
           }
          ],
          "heatmap": [
           {
            "colorbar": {
             "outlinewidth": 0,
             "ticks": ""
            },
            "colorscale": [
             [
              0,
              "#0d0887"
             ],
             [
              0.1111111111111111,
              "#46039f"
             ],
             [
              0.2222222222222222,
              "#7201a8"
             ],
             [
              0.3333333333333333,
              "#9c179e"
             ],
             [
              0.4444444444444444,
              "#bd3786"
             ],
             [
              0.5555555555555556,
              "#d8576b"
             ],
             [
              0.6666666666666666,
              "#ed7953"
             ],
             [
              0.7777777777777778,
              "#fb9f3a"
             ],
             [
              0.8888888888888888,
              "#fdca26"
             ],
             [
              1,
              "#f0f921"
             ]
            ],
            "type": "heatmap"
           }
          ],
          "histogram": [
           {
            "marker": {
             "pattern": {
              "fillmode": "overlay",
              "size": 10,
              "solidity": 0.2
             }
            },
            "type": "histogram"
           }
          ],
          "histogram2d": [
           {
            "colorbar": {
             "outlinewidth": 0,
             "ticks": ""
            },
            "colorscale": [
             [
              0,
              "#0d0887"
             ],
             [
              0.1111111111111111,
              "#46039f"
             ],
             [
              0.2222222222222222,
              "#7201a8"
             ],
             [
              0.3333333333333333,
              "#9c179e"
             ],
             [
              0.4444444444444444,
              "#bd3786"
             ],
             [
              0.5555555555555556,
              "#d8576b"
             ],
             [
              0.6666666666666666,
              "#ed7953"
             ],
             [
              0.7777777777777778,
              "#fb9f3a"
             ],
             [
              0.8888888888888888,
              "#fdca26"
             ],
             [
              1,
              "#f0f921"
             ]
            ],
            "type": "histogram2d"
           }
          ],
          "histogram2dcontour": [
           {
            "colorbar": {
             "outlinewidth": 0,
             "ticks": ""
            },
            "colorscale": [
             [
              0,
              "#0d0887"
             ],
             [
              0.1111111111111111,
              "#46039f"
             ],
             [
              0.2222222222222222,
              "#7201a8"
             ],
             [
              0.3333333333333333,
              "#9c179e"
             ],
             [
              0.4444444444444444,
              "#bd3786"
             ],
             [
              0.5555555555555556,
              "#d8576b"
             ],
             [
              0.6666666666666666,
              "#ed7953"
             ],
             [
              0.7777777777777778,
              "#fb9f3a"
             ],
             [
              0.8888888888888888,
              "#fdca26"
             ],
             [
              1,
              "#f0f921"
             ]
            ],
            "type": "histogram2dcontour"
           }
          ],
          "mesh3d": [
           {
            "colorbar": {
             "outlinewidth": 0,
             "ticks": ""
            },
            "type": "mesh3d"
           }
          ],
          "parcoords": [
           {
            "line": {
             "colorbar": {
              "outlinewidth": 0,
              "ticks": ""
             }
            },
            "type": "parcoords"
           }
          ],
          "pie": [
           {
            "automargin": true,
            "type": "pie"
           }
          ],
          "scatter": [
           {
            "fillpattern": {
             "fillmode": "overlay",
             "size": 10,
             "solidity": 0.2
            },
            "type": "scatter"
           }
          ],
          "scatter3d": [
           {
            "line": {
             "colorbar": {
              "outlinewidth": 0,
              "ticks": ""
             }
            },
            "marker": {
             "colorbar": {
              "outlinewidth": 0,
              "ticks": ""
             }
            },
            "type": "scatter3d"
           }
          ],
          "scattercarpet": [
           {
            "marker": {
             "colorbar": {
              "outlinewidth": 0,
              "ticks": ""
             }
            },
            "type": "scattercarpet"
           }
          ],
          "scattergeo": [
           {
            "marker": {
             "colorbar": {
              "outlinewidth": 0,
              "ticks": ""
             }
            },
            "type": "scattergeo"
           }
          ],
          "scattergl": [
           {
            "marker": {
             "colorbar": {
              "outlinewidth": 0,
              "ticks": ""
             }
            },
            "type": "scattergl"
           }
          ],
          "scattermap": [
           {
            "marker": {
             "colorbar": {
              "outlinewidth": 0,
              "ticks": ""
             }
            },
            "type": "scattermap"
           }
          ],
          "scattermapbox": [
           {
            "marker": {
             "colorbar": {
              "outlinewidth": 0,
              "ticks": ""
             }
            },
            "type": "scattermapbox"
           }
          ],
          "scatterpolar": [
           {
            "marker": {
             "colorbar": {
              "outlinewidth": 0,
              "ticks": ""
             }
            },
            "type": "scatterpolar"
           }
          ],
          "scatterpolargl": [
           {
            "marker": {
             "colorbar": {
              "outlinewidth": 0,
              "ticks": ""
             }
            },
            "type": "scatterpolargl"
           }
          ],
          "scatterternary": [
           {
            "marker": {
             "colorbar": {
              "outlinewidth": 0,
              "ticks": ""
             }
            },
            "type": "scatterternary"
           }
          ],
          "surface": [
           {
            "colorbar": {
             "outlinewidth": 0,
             "ticks": ""
            },
            "colorscale": [
             [
              0,
              "#0d0887"
             ],
             [
              0.1111111111111111,
              "#46039f"
             ],
             [
              0.2222222222222222,
              "#7201a8"
             ],
             [
              0.3333333333333333,
              "#9c179e"
             ],
             [
              0.4444444444444444,
              "#bd3786"
             ],
             [
              0.5555555555555556,
              "#d8576b"
             ],
             [
              0.6666666666666666,
              "#ed7953"
             ],
             [
              0.7777777777777778,
              "#fb9f3a"
             ],
             [
              0.8888888888888888,
              "#fdca26"
             ],
             [
              1,
              "#f0f921"
             ]
            ],
            "type": "surface"
           }
          ],
          "table": [
           {
            "cells": {
             "fill": {
              "color": "#EBF0F8"
             },
             "line": {
              "color": "white"
             }
            },
            "header": {
             "fill": {
              "color": "#C8D4E3"
             },
             "line": {
              "color": "white"
             }
            },
            "type": "table"
           }
          ]
         },
         "layout": {
          "annotationdefaults": {
           "arrowcolor": "#2a3f5f",
           "arrowhead": 0,
           "arrowwidth": 1
          },
          "autotypenumbers": "strict",
          "coloraxis": {
           "colorbar": {
            "outlinewidth": 0,
            "ticks": ""
           }
          },
          "colorscale": {
           "diverging": [
            [
             0,
             "#8e0152"
            ],
            [
             0.1,
             "#c51b7d"
            ],
            [
             0.2,
             "#de77ae"
            ],
            [
             0.3,
             "#f1b6da"
            ],
            [
             0.4,
             "#fde0ef"
            ],
            [
             0.5,
             "#f7f7f7"
            ],
            [
             0.6,
             "#e6f5d0"
            ],
            [
             0.7,
             "#b8e186"
            ],
            [
             0.8,
             "#7fbc41"
            ],
            [
             0.9,
             "#4d9221"
            ],
            [
             1,
             "#276419"
            ]
           ],
           "sequential": [
            [
             0,
             "#0d0887"
            ],
            [
             0.1111111111111111,
             "#46039f"
            ],
            [
             0.2222222222222222,
             "#7201a8"
            ],
            [
             0.3333333333333333,
             "#9c179e"
            ],
            [
             0.4444444444444444,
             "#bd3786"
            ],
            [
             0.5555555555555556,
             "#d8576b"
            ],
            [
             0.6666666666666666,
             "#ed7953"
            ],
            [
             0.7777777777777778,
             "#fb9f3a"
            ],
            [
             0.8888888888888888,
             "#fdca26"
            ],
            [
             1,
             "#f0f921"
            ]
           ],
           "sequentialminus": [
            [
             0,
             "#0d0887"
            ],
            [
             0.1111111111111111,
             "#46039f"
            ],
            [
             0.2222222222222222,
             "#7201a8"
            ],
            [
             0.3333333333333333,
             "#9c179e"
            ],
            [
             0.4444444444444444,
             "#bd3786"
            ],
            [
             0.5555555555555556,
             "#d8576b"
            ],
            [
             0.6666666666666666,
             "#ed7953"
            ],
            [
             0.7777777777777778,
             "#fb9f3a"
            ],
            [
             0.8888888888888888,
             "#fdca26"
            ],
            [
             1,
             "#f0f921"
            ]
           ]
          },
          "colorway": [
           "#636efa",
           "#EF553B",
           "#00cc96",
           "#ab63fa",
           "#FFA15A",
           "#19d3f3",
           "#FF6692",
           "#B6E880",
           "#FF97FF",
           "#FECB52"
          ],
          "font": {
           "color": "#2a3f5f"
          },
          "geo": {
           "bgcolor": "white",
           "lakecolor": "white",
           "landcolor": "#E5ECF6",
           "showlakes": true,
           "showland": true,
           "subunitcolor": "white"
          },
          "hoverlabel": {
           "align": "left"
          },
          "hovermode": "closest",
          "mapbox": {
           "style": "light"
          },
          "paper_bgcolor": "white",
          "plot_bgcolor": "#E5ECF6",
          "polar": {
           "angularaxis": {
            "gridcolor": "white",
            "linecolor": "white",
            "ticks": ""
           },
           "bgcolor": "#E5ECF6",
           "radialaxis": {
            "gridcolor": "white",
            "linecolor": "white",
            "ticks": ""
           }
          },
          "scene": {
           "xaxis": {
            "backgroundcolor": "#E5ECF6",
            "gridcolor": "white",
            "gridwidth": 2,
            "linecolor": "white",
            "showbackground": true,
            "ticks": "",
            "zerolinecolor": "white"
           },
           "yaxis": {
            "backgroundcolor": "#E5ECF6",
            "gridcolor": "white",
            "gridwidth": 2,
            "linecolor": "white",
            "showbackground": true,
            "ticks": "",
            "zerolinecolor": "white"
           },
           "zaxis": {
            "backgroundcolor": "#E5ECF6",
            "gridcolor": "white",
            "gridwidth": 2,
            "linecolor": "white",
            "showbackground": true,
            "ticks": "",
            "zerolinecolor": "white"
           }
          },
          "shapedefaults": {
           "line": {
            "color": "#2a3f5f"
           }
          },
          "ternary": {
           "aaxis": {
            "gridcolor": "white",
            "linecolor": "white",
            "ticks": ""
           },
           "baxis": {
            "gridcolor": "white",
            "linecolor": "white",
            "ticks": ""
           },
           "bgcolor": "#E5ECF6",
           "caxis": {
            "gridcolor": "white",
            "linecolor": "white",
            "ticks": ""
           }
          },
          "title": {
           "x": 0.05
          },
          "xaxis": {
           "automargin": true,
           "gridcolor": "white",
           "linecolor": "white",
           "ticks": "",
           "title": {
            "standoff": 15
           },
           "zerolinecolor": "white",
           "zerolinewidth": 2
          },
          "yaxis": {
           "automargin": true,
           "gridcolor": "white",
           "linecolor": "white",
           "ticks": "",
           "title": {
            "standoff": 15
           },
           "zerolinecolor": "white",
           "zerolinewidth": 2
          }
         }
        },
        "title": {
         "text": "Comparación de F1-score por Modelo",
         "x": 0.5
        },
        "xaxis": {
         "anchor": "y",
         "domain": [
          0,
          1
         ],
         "title": {
          "text": "Modelo"
         }
        },
        "yaxis": {
         "anchor": "x",
         "domain": [
          0,
          1
         ],
         "title": {
          "text": "F1-score"
         }
        }
       }
      }
     },
     "metadata": {},
     "output_type": "display_data"
    }
   ],
   "source": [
    "# Gráfico de barras para comparar el F1-score entre los modelos\n",
    "# Este gráfico compara el F1-score de cada modelo.\n",
    "# Ayuda a entender si el modelo está equilibrando bien precisión y recall, especialmente para clases minoritarias.\n",
    "fig_f1 = px.bar(\n",
    "    resultados, x=\"Modelo\", y=\"F1-score\",\n",
    "    title=\"Comparación de F1-score por Modelo\",\n",
    "    text=\"F1-score\", color=\"F1-score\", color_continuous_scale=\"Greens\"\n",
    ")\n",
    "fig_f1.update_layout(\n",
    "    xaxis_title=\"Modelo\",\n",
    "    yaxis_title=\"F1-score\",\n",
    "    title_x=0.5\n",
    ")\n",
    "fig_f1.update_traces(\n",
    "    texttemplate='%{text:.2f}',\n",
    "    textposition='outside'\n",
    ")"
   ]
  },
  {
   "cell_type": "markdown",
   "metadata": {},
   "source": [
    "La gráfica presenta una comparación del F1-score. Se evidencia una mejora clara respecto al modelo inicial, que alcanza solo un 56% de F1-score, lo que indica un pobre equilibrio entre precisión y recall. A medida que se ajustan los hiperparámetros manualmente, el F1-score aumenta progresivamente.Los modelos optimizados con GridSearchCV y RandomizedSearchCV también muestran un excelente desempeño con F1-scores del 90% y 96% respectivamente. "
   ]
  },
  {
   "cell_type": "code",
   "execution_count": null,
   "metadata": {},
   "outputs": [
    {
     "data": {
      "application/vnd.plotly.v1+json": {
       "config": {
        "plotlyServerURL": "https://plot.ly"
       },
       "data": [
        {
         "hovertemplate": "Modelo=%{x}<br>Tiempo (min)=%{marker.color}<extra></extra>",
         "legendgroup": "",
         "marker": {
          "color": {
           "bdata": "ZmZmZmZmxj+e76fGSzftPxkEVg4tsgRACKwcWmQ7FUDJdr6fGm8hQAAAAAAAADJAAAAAAAAAVEA=",
           "dtype": "f8"
          },
          "coloraxis": "coloraxis",
          "pattern": {
           "shape": ""
          }
         },
         "name": "",
         "orientation": "v",
         "showlegend": false,
         "text": {
          "bdata": "ZmZmZmZmxj+e76fGSzftPxkEVg4tsgRACKwcWmQ7FUDJdr6fGm8hQAAAAAAAADJAAAAAAAAAVEA=",
          "dtype": "f8"
         },
         "textposition": "outside",
         "texttemplate": "%{text:.2f}",
         "type": "bar",
         "x": [
          "Inicial (100, 4)",
          "Ajustado 1 (200, 20)",
          "Ajustado 2 (300, 30)",
          "Ajustado 3 (400, 40)",
          "Ajustado 4 (500, 50)",
          "GridSearchCV (300, 30, balanced)",
          "RandomizedSearchCV (300, None, balanced)"
         ],
         "xaxis": "x",
         "y": {
          "bdata": "ZmZmZmZmxj+e76fGSzftPxkEVg4tsgRACKwcWmQ7FUDJdr6fGm8hQAAAAAAAADJAAAAAAAAAVEA=",
          "dtype": "f8"
         },
         "yaxis": "y"
        }
       ],
       "layout": {
        "barmode": "relative",
        "coloraxis": {
         "colorbar": {
          "title": {
           "text": "Tiempo (min)"
          }
         },
         "colorscale": [
          [
           0,
           "rgb(255,245,240)"
          ],
          [
           0.125,
           "rgb(254,224,210)"
          ],
          [
           0.25,
           "rgb(252,187,161)"
          ],
          [
           0.375,
           "rgb(252,146,114)"
          ],
          [
           0.5,
           "rgb(251,106,74)"
          ],
          [
           0.625,
           "rgb(239,59,44)"
          ],
          [
           0.75,
           "rgb(203,24,29)"
          ],
          [
           0.875,
           "rgb(165,15,21)"
          ],
          [
           1,
           "rgb(103,0,13)"
          ]
         ]
        },
        "legend": {
         "tracegroupgap": 0
        },
        "template": {
         "data": {
          "bar": [
           {
            "error_x": {
             "color": "#2a3f5f"
            },
            "error_y": {
             "color": "#2a3f5f"
            },
            "marker": {
             "line": {
              "color": "#E5ECF6",
              "width": 0.5
             },
             "pattern": {
              "fillmode": "overlay",
              "size": 10,
              "solidity": 0.2
             }
            },
            "type": "bar"
           }
          ],
          "barpolar": [
           {
            "marker": {
             "line": {
              "color": "#E5ECF6",
              "width": 0.5
             },
             "pattern": {
              "fillmode": "overlay",
              "size": 10,
              "solidity": 0.2
             }
            },
            "type": "barpolar"
           }
          ],
          "carpet": [
           {
            "aaxis": {
             "endlinecolor": "#2a3f5f",
             "gridcolor": "white",
             "linecolor": "white",
             "minorgridcolor": "white",
             "startlinecolor": "#2a3f5f"
            },
            "baxis": {
             "endlinecolor": "#2a3f5f",
             "gridcolor": "white",
             "linecolor": "white",
             "minorgridcolor": "white",
             "startlinecolor": "#2a3f5f"
            },
            "type": "carpet"
           }
          ],
          "choropleth": [
           {
            "colorbar": {
             "outlinewidth": 0,
             "ticks": ""
            },
            "type": "choropleth"
           }
          ],
          "contour": [
           {
            "colorbar": {
             "outlinewidth": 0,
             "ticks": ""
            },
            "colorscale": [
             [
              0,
              "#0d0887"
             ],
             [
              0.1111111111111111,
              "#46039f"
             ],
             [
              0.2222222222222222,
              "#7201a8"
             ],
             [
              0.3333333333333333,
              "#9c179e"
             ],
             [
              0.4444444444444444,
              "#bd3786"
             ],
             [
              0.5555555555555556,
              "#d8576b"
             ],
             [
              0.6666666666666666,
              "#ed7953"
             ],
             [
              0.7777777777777778,
              "#fb9f3a"
             ],
             [
              0.8888888888888888,
              "#fdca26"
             ],
             [
              1,
              "#f0f921"
             ]
            ],
            "type": "contour"
           }
          ],
          "contourcarpet": [
           {
            "colorbar": {
             "outlinewidth": 0,
             "ticks": ""
            },
            "type": "contourcarpet"
           }
          ],
          "heatmap": [
           {
            "colorbar": {
             "outlinewidth": 0,
             "ticks": ""
            },
            "colorscale": [
             [
              0,
              "#0d0887"
             ],
             [
              0.1111111111111111,
              "#46039f"
             ],
             [
              0.2222222222222222,
              "#7201a8"
             ],
             [
              0.3333333333333333,
              "#9c179e"
             ],
             [
              0.4444444444444444,
              "#bd3786"
             ],
             [
              0.5555555555555556,
              "#d8576b"
             ],
             [
              0.6666666666666666,
              "#ed7953"
             ],
             [
              0.7777777777777778,
              "#fb9f3a"
             ],
             [
              0.8888888888888888,
              "#fdca26"
             ],
             [
              1,
              "#f0f921"
             ]
            ],
            "type": "heatmap"
           }
          ],
          "histogram": [
           {
            "marker": {
             "pattern": {
              "fillmode": "overlay",
              "size": 10,
              "solidity": 0.2
             }
            },
            "type": "histogram"
           }
          ],
          "histogram2d": [
           {
            "colorbar": {
             "outlinewidth": 0,
             "ticks": ""
            },
            "colorscale": [
             [
              0,
              "#0d0887"
             ],
             [
              0.1111111111111111,
              "#46039f"
             ],
             [
              0.2222222222222222,
              "#7201a8"
             ],
             [
              0.3333333333333333,
              "#9c179e"
             ],
             [
              0.4444444444444444,
              "#bd3786"
             ],
             [
              0.5555555555555556,
              "#d8576b"
             ],
             [
              0.6666666666666666,
              "#ed7953"
             ],
             [
              0.7777777777777778,
              "#fb9f3a"
             ],
             [
              0.8888888888888888,
              "#fdca26"
             ],
             [
              1,
              "#f0f921"
             ]
            ],
            "type": "histogram2d"
           }
          ],
          "histogram2dcontour": [
           {
            "colorbar": {
             "outlinewidth": 0,
             "ticks": ""
            },
            "colorscale": [
             [
              0,
              "#0d0887"
             ],
             [
              0.1111111111111111,
              "#46039f"
             ],
             [
              0.2222222222222222,
              "#7201a8"
             ],
             [
              0.3333333333333333,
              "#9c179e"
             ],
             [
              0.4444444444444444,
              "#bd3786"
             ],
             [
              0.5555555555555556,
              "#d8576b"
             ],
             [
              0.6666666666666666,
              "#ed7953"
             ],
             [
              0.7777777777777778,
              "#fb9f3a"
             ],
             [
              0.8888888888888888,
              "#fdca26"
             ],
             [
              1,
              "#f0f921"
             ]
            ],
            "type": "histogram2dcontour"
           }
          ],
          "mesh3d": [
           {
            "colorbar": {
             "outlinewidth": 0,
             "ticks": ""
            },
            "type": "mesh3d"
           }
          ],
          "parcoords": [
           {
            "line": {
             "colorbar": {
              "outlinewidth": 0,
              "ticks": ""
             }
            },
            "type": "parcoords"
           }
          ],
          "pie": [
           {
            "automargin": true,
            "type": "pie"
           }
          ],
          "scatter": [
           {
            "fillpattern": {
             "fillmode": "overlay",
             "size": 10,
             "solidity": 0.2
            },
            "type": "scatter"
           }
          ],
          "scatter3d": [
           {
            "line": {
             "colorbar": {
              "outlinewidth": 0,
              "ticks": ""
             }
            },
            "marker": {
             "colorbar": {
              "outlinewidth": 0,
              "ticks": ""
             }
            },
            "type": "scatter3d"
           }
          ],
          "scattercarpet": [
           {
            "marker": {
             "colorbar": {
              "outlinewidth": 0,
              "ticks": ""
             }
            },
            "type": "scattercarpet"
           }
          ],
          "scattergeo": [
           {
            "marker": {
             "colorbar": {
              "outlinewidth": 0,
              "ticks": ""
             }
            },
            "type": "scattergeo"
           }
          ],
          "scattergl": [
           {
            "marker": {
             "colorbar": {
              "outlinewidth": 0,
              "ticks": ""
             }
            },
            "type": "scattergl"
           }
          ],
          "scattermap": [
           {
            "marker": {
             "colorbar": {
              "outlinewidth": 0,
              "ticks": ""
             }
            },
            "type": "scattermap"
           }
          ],
          "scattermapbox": [
           {
            "marker": {
             "colorbar": {
              "outlinewidth": 0,
              "ticks": ""
             }
            },
            "type": "scattermapbox"
           }
          ],
          "scatterpolar": [
           {
            "marker": {
             "colorbar": {
              "outlinewidth": 0,
              "ticks": ""
             }
            },
            "type": "scatterpolar"
           }
          ],
          "scatterpolargl": [
           {
            "marker": {
             "colorbar": {
              "outlinewidth": 0,
              "ticks": ""
             }
            },
            "type": "scatterpolargl"
           }
          ],
          "scatterternary": [
           {
            "marker": {
             "colorbar": {
              "outlinewidth": 0,
              "ticks": ""
             }
            },
            "type": "scatterternary"
           }
          ],
          "surface": [
           {
            "colorbar": {
             "outlinewidth": 0,
             "ticks": ""
            },
            "colorscale": [
             [
              0,
              "#0d0887"
             ],
             [
              0.1111111111111111,
              "#46039f"
             ],
             [
              0.2222222222222222,
              "#7201a8"
             ],
             [
              0.3333333333333333,
              "#9c179e"
             ],
             [
              0.4444444444444444,
              "#bd3786"
             ],
             [
              0.5555555555555556,
              "#d8576b"
             ],
             [
              0.6666666666666666,
              "#ed7953"
             ],
             [
              0.7777777777777778,
              "#fb9f3a"
             ],
             [
              0.8888888888888888,
              "#fdca26"
             ],
             [
              1,
              "#f0f921"
             ]
            ],
            "type": "surface"
           }
          ],
          "table": [
           {
            "cells": {
             "fill": {
              "color": "#EBF0F8"
             },
             "line": {
              "color": "white"
             }
            },
            "header": {
             "fill": {
              "color": "#C8D4E3"
             },
             "line": {
              "color": "white"
             }
            },
            "type": "table"
           }
          ]
         },
         "layout": {
          "annotationdefaults": {
           "arrowcolor": "#2a3f5f",
           "arrowhead": 0,
           "arrowwidth": 1
          },
          "autotypenumbers": "strict",
          "coloraxis": {
           "colorbar": {
            "outlinewidth": 0,
            "ticks": ""
           }
          },
          "colorscale": {
           "diverging": [
            [
             0,
             "#8e0152"
            ],
            [
             0.1,
             "#c51b7d"
            ],
            [
             0.2,
             "#de77ae"
            ],
            [
             0.3,
             "#f1b6da"
            ],
            [
             0.4,
             "#fde0ef"
            ],
            [
             0.5,
             "#f7f7f7"
            ],
            [
             0.6,
             "#e6f5d0"
            ],
            [
             0.7,
             "#b8e186"
            ],
            [
             0.8,
             "#7fbc41"
            ],
            [
             0.9,
             "#4d9221"
            ],
            [
             1,
             "#276419"
            ]
           ],
           "sequential": [
            [
             0,
             "#0d0887"
            ],
            [
             0.1111111111111111,
             "#46039f"
            ],
            [
             0.2222222222222222,
             "#7201a8"
            ],
            [
             0.3333333333333333,
             "#9c179e"
            ],
            [
             0.4444444444444444,
             "#bd3786"
            ],
            [
             0.5555555555555556,
             "#d8576b"
            ],
            [
             0.6666666666666666,
             "#ed7953"
            ],
            [
             0.7777777777777778,
             "#fb9f3a"
            ],
            [
             0.8888888888888888,
             "#fdca26"
            ],
            [
             1,
             "#f0f921"
            ]
           ],
           "sequentialminus": [
            [
             0,
             "#0d0887"
            ],
            [
             0.1111111111111111,
             "#46039f"
            ],
            [
             0.2222222222222222,
             "#7201a8"
            ],
            [
             0.3333333333333333,
             "#9c179e"
            ],
            [
             0.4444444444444444,
             "#bd3786"
            ],
            [
             0.5555555555555556,
             "#d8576b"
            ],
            [
             0.6666666666666666,
             "#ed7953"
            ],
            [
             0.7777777777777778,
             "#fb9f3a"
            ],
            [
             0.8888888888888888,
             "#fdca26"
            ],
            [
             1,
             "#f0f921"
            ]
           ]
          },
          "colorway": [
           "#636efa",
           "#EF553B",
           "#00cc96",
           "#ab63fa",
           "#FFA15A",
           "#19d3f3",
           "#FF6692",
           "#B6E880",
           "#FF97FF",
           "#FECB52"
          ],
          "font": {
           "color": "#2a3f5f"
          },
          "geo": {
           "bgcolor": "white",
           "lakecolor": "white",
           "landcolor": "#E5ECF6",
           "showlakes": true,
           "showland": true,
           "subunitcolor": "white"
          },
          "hoverlabel": {
           "align": "left"
          },
          "hovermode": "closest",
          "mapbox": {
           "style": "light"
          },
          "paper_bgcolor": "white",
          "plot_bgcolor": "#E5ECF6",
          "polar": {
           "angularaxis": {
            "gridcolor": "white",
            "linecolor": "white",
            "ticks": ""
           },
           "bgcolor": "#E5ECF6",
           "radialaxis": {
            "gridcolor": "white",
            "linecolor": "white",
            "ticks": ""
           }
          },
          "scene": {
           "xaxis": {
            "backgroundcolor": "#E5ECF6",
            "gridcolor": "white",
            "gridwidth": 2,
            "linecolor": "white",
            "showbackground": true,
            "ticks": "",
            "zerolinecolor": "white"
           },
           "yaxis": {
            "backgroundcolor": "#E5ECF6",
            "gridcolor": "white",
            "gridwidth": 2,
            "linecolor": "white",
            "showbackground": true,
            "ticks": "",
            "zerolinecolor": "white"
           },
           "zaxis": {
            "backgroundcolor": "#E5ECF6",
            "gridcolor": "white",
            "gridwidth": 2,
            "linecolor": "white",
            "showbackground": true,
            "ticks": "",
            "zerolinecolor": "white"
           }
          },
          "shapedefaults": {
           "line": {
            "color": "#2a3f5f"
           }
          },
          "ternary": {
           "aaxis": {
            "gridcolor": "white",
            "linecolor": "white",
            "ticks": ""
           },
           "baxis": {
            "gridcolor": "white",
            "linecolor": "white",
            "ticks": ""
           },
           "bgcolor": "#E5ECF6",
           "caxis": {
            "gridcolor": "white",
            "linecolor": "white",
            "ticks": ""
           }
          },
          "title": {
           "x": 0.05
          },
          "xaxis": {
           "automargin": true,
           "gridcolor": "white",
           "linecolor": "white",
           "ticks": "",
           "title": {
            "standoff": 15
           },
           "zerolinecolor": "white",
           "zerolinewidth": 2
          },
          "yaxis": {
           "automargin": true,
           "gridcolor": "white",
           "linecolor": "white",
           "ticks": "",
           "title": {
            "standoff": 15
           },
           "zerolinecolor": "white",
           "zerolinewidth": 2
          }
         }
        },
        "title": {
         "text": "Comparación de Tiempos de Ejecución (minutos)",
         "x": 0.5
        },
        "xaxis": {
         "anchor": "y",
         "domain": [
          0,
          1
         ],
         "title": {
          "text": "Modelo"
         }
        },
        "yaxis": {
         "anchor": "x",
         "domain": [
          0,
          1
         ],
         "title": {
          "text": "Tiempo (minutos)"
         }
        }
       }
      }
     },
     "metadata": {},
     "output_type": "display_data"
    }
   ],
   "source": [
    "# Gráfico de barras para comparar el tiempo de entrenamiento de cada modelo\n",
    "# Este gráfico muestra cuánto tardó en ejecutarse cada modelo.\n",
    "# Es útil para contrastar el rendimiento frente al costo computacional, especialmente en modelos más pesados\n",
    "fig_tiempo = px.bar(\n",
    "    resultados, x=\"Modelo\", y=\"Tiempo (min)\",\n",
    "    title=\"Comparación de Tiempos de Ejecución (minutos)\",\n",
    "    text=\"Tiempo (min)\", color=\"Tiempo (min)\", color_continuous_scale=\"Reds\"\n",
    ")\n",
    "fig_tiempo.update_layout(\n",
    "    xaxis_title=\"Modelo\",\n",
    "    yaxis_title=\"Tiempo (minutos)\",\n",
    "    title_x=0.5\n",
    ")\n",
    "fig_tiempo.update_traces(\n",
    "    texttemplate='%{text:.2f}',\n",
    "    textposition='outside'\n",
    ")"
   ]
  },
  {
   "cell_type": "markdown",
   "metadata": {},
   "source": [
    "Esta gráfica muestra la comparación del tiempo de ejecución en minutos requerido por cada modelo evaluado. Se puede observar que el modelo inicial (con 100 árboles y profundidad 4) es el más rápido, ejecutándose en tan solo 0.17 minutos. A medida que se incrementan los hiperparámetros manualmente, el tiempo también crece, el modelo ajustado 4 tarda alrededor de 8.7 minutos. Por otro lado, los métodos automáticos como GridSearchCV y RandomizedSearchCV requieren considerablemente más tiempo, con 18 y 80 minutos respectivamente. Por lo tanto, es fundamental evaluar la relación entre el rendimiento obtenido y el tiempo de ejecución, ya que un modelo más preciso podría no ser viable si el costo computacional es demasiado alto para el contexto del proyecto.\n",
    "\n",
    "\n",
    "\n",
    "\n",
    "\n",
    "\n"
   ]
  },
  {
   "cell_type": "markdown",
   "metadata": {},
   "source": [
    "listo."
   ]
  }
 ],
 "metadata": {
  "kernelspec": {
   "display_name": "IDM4SEM",
   "language": "python",
   "name": "python3"
  },
  "language_info": {
   "codemirror_mode": {
    "name": "ipython",
    "version": 3
   },
   "file_extension": ".py",
   "mimetype": "text/x-python",
   "name": "python",
   "nbconvert_exporter": "python",
   "pygments_lexer": "ipython3",
   "version": "3.11.11"
  }
 },
 "nbformat": 4,
 "nbformat_minor": 2
}
